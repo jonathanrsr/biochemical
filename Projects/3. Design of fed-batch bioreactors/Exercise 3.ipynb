{
 "cells": [
  {
   "cell_type": "markdown",
   "metadata": {},
   "source": [
    "In some fermentations, the growth and product-formation steps to be separated, e.g., secondary metabolite, culture of genetically engineered cells.\n",
    "\n",
    "Consider a system consisting of two reactors in serial. If the flowrate (F) is 100 L.h $^{-1}$, input substrate concentration is 10 g.L $^{-1}$ ($S_0$), max yield is 0.5, and Monod growth parameters are: $\\mu_{max}$ = 1 h $^{-1}$ and $K_S$ = 0.75 g.L $^{-1}, predict the outlet concentrations of the cell and substrate plus specific growth rate under following assumptions:\n",
    "\n",
    "System is operating under steady state conditions.\\\\\n",
    "You can neglect the maintenance energy of the cells. "
   ]
  }
 ],
 "metadata": {
  "language_info": {
   "name": "python"
  }
 },
 "nbformat": 4,
 "nbformat_minor": 2
}
