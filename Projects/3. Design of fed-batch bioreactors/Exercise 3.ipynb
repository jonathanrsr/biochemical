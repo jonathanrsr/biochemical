{
 "cells": [
  {
   "cell_type": "markdown",
   "metadata": {},
   "source": [
    "# Project 3. Design of fed-batch bioreactors"
   ]
  },
  {
   "cell_type": "markdown",
   "metadata": {},
   "source": [
    "## Exercise 3"
   ]
  },
  {
   "cell_type": "markdown",
   "metadata": {},
   "source": [
    "In some fermentations, the growth and product-formation steps to be separated, e.g., secondary metabolite, culture of genetically engineered cells.\n",
    "\n",
    "Consider a system consisting of two reactors in serial. If the flowrate (F) is 100 L.h $^{-1}$, input substrate concentration is 10 g.L $^{-1}$ ($S_0$), max yield is 0.5, and Monod growth parameters are: $\\mu_{max}$ = 1 h $^{-1}$ and $K_S$ = 0.75 g.L $^{-1}$, predict the outlet concentrations of the cell and substrate plus specific growth rate under following assumptions:\n",
    "\n",
    "System is operating under steady state conditions.\\\n",
    "You can neglect the maintenance energy of the cells. "
   ]
  },
  {
   "cell_type": "code",
   "execution_count": 84,
   "metadata": {},
   "outputs": [],
   "source": [
    "F = 100 #L/h\n",
    "S0 = 10 #g/L\n",
    "Y_XS = 0.5\n",
    "mumax = 1 #/h\n",
    "Ks = 0.75 #g/L"
   ]
  },
  {
   "cell_type": "markdown",
   "metadata": {},
   "source": [
    "For the first reactor, the feed is sterile, thus the equation found in project 2, exercise 4 hold:\n",
    "\n",
    "* $\\mu = D_1$\n",
    "\n",
    "* $S_1 = D_1 \\cdot \\frac{K_s}{D_{max} - D_1}$\n",
    "\n",
    "* $X_1 = Y_{X/S} \\cdot (S_0 - S_1)$\n",
    "\n",
    "For the second reactor, these equations don't hold anymore since the feed contain some cell at the concentration $X_1$. Starting form the mass balance for the cells in reactor 2:\n",
    "\n",
    "* $0 = D_2 \\cdot X_1 - D_2 \\cdot X_2 + {r_X}_2$\n",
    "\n",
    "Knowing that ${r_X}_2 = \\mu_2 \\cdot X_2$ and that $\\mu_2 = \\frac{\\mu_{max} \\cdot S_2}{K_S + S_2}$, the mass balance can be written:\n",
    "\n",
    "* $0 = D_2 \\cdot X_1 - D_2 \\cdot X_2 + \\frac{\\mu_{max} \\cdot S_2}{K_S + S_2} \\cdot X_2$\n",
    "\n",
    "Isolating $X_2$ gives:\n",
    "\n",
    "* $X_2 = \\frac{D_2 \\cdot X_1 \\cdot (K_S + S_2)}{D_2 \\cdot (K_S + S_2) - S_2 \\cdot \\mu_{max}}$\n",
    "\n",
    "Starting from the mass balance for the substrate in reactor 2:\n",
    "\n",
    "* $0 = D_2 \\cdot S_1 - D_2 \\cdot S_2 + {r_S}_2$\n",
    "\n",
    "Knowing that ${r_S}_2 = -\\frac{{r_X}_2}{Y_{X/S}}$, this can be written as:\n",
    "\n",
    "* $0 = D_2 \\cdot S_1 - D_2 \\cdot S_2 - \\frac{\\mu_{max} \\cdot S_2}{Y_{X/S} \\cdot (K_S + S_2)} \\cdot X_2$\n",
    "\n",
    "After substituing for $X_2$:\n",
    "\n",
    "* $0 = D_2 \\cdot S_1 - D_2 \\cdot S_2 - \\frac{\\mu_{max} \\cdot S_2 \\cdot D_2 \\cdot X_1}{Y_{X/S} \\cdot (D_2 \\cdot (K_S + S_2) - S_2 \\cdot \\mu_{max})}$\n",
    "\n",
    "Which gives a second order equation when solving for $S_2$, where the coefficients are:\n",
    "\n",
    "* $a = Y_{X/S} \\cdot (\\mu_{max} - D_2)$\n",
    "\n",
    "* $b = Y_{X/S} \\cdot (S_1 \\cdot D_2 - \\mu_{max} \\cdot S_1 - K_S \\cdot D_2) - \\mu_{max} \\cdot X_1$\n",
    "\n",
    "* $c = Y_{X/S} \\cdot K_S \\cdot S_1 \\cdot D_2$\n",
    "\n",
    "Or:\n",
    "\n",
    "$S_2 = -\\frac{-\\sqrt{(D_2 \\cdot Y_{X/S} \\cdot (K_S - S_1) + \\mu_{max} \\cdot (S_1 \\cdot Y_{X/S} + X1))^2 + 4 \\cdot D_2 \\cdot K_S \\cdot S_1 \\cdot Y_{X/S}^2 \\cdot (D_2 - \\mu_{max})} + D_2 \\cdot K_S \\cdot Y_{X/S} - D_2 \\cdot S_1 \\cdot Y_{X/S} + \\mu_{max} \\cdot S_1 \\cdot Y_{X/S} + \\mu_{max} \\cdot X_1}{2 \\cdot Y_{X/S} \\cdot (D_2 - \\mu_{max})}$"
   ]
  },
  {
   "cell_type": "code",
   "execution_count": 85,
   "metadata": {},
   "outputs": [],
   "source": [
    "import numpy as np\n",
    "\n",
    "def predict(V1, V2):\n",
    "    D1 = F/V1\n",
    "    mu1 = D1\n",
    "    if mumax - D1 == 0:\n",
    "        S1 = S0\n",
    "    else:\n",
    "        S1 = D1*Ks/(mumax - D1)\n",
    "    if S1 > S0:\n",
    "        S1 = S0\n",
    "    \n",
    "    X1 = Y_XS*(S0 - S1)\n",
    "\n",
    "    if V2 != 0:\n",
    "        D2 = F/V2\n",
    "        if mumax - D2 == 0:\n",
    "            S2 = S1\n",
    "        else:\n",
    "            S2 = -(-np.sqrt((D2*Y_XS*(Ks - S1) + mumax*(S1*Y_XS + X1))**2 + 4*D2*Ks*S1*Y_XS**2*(D2 - mumax)) + D2*Ks*Y_XS - D2*S1*Y_XS + S1*mumax*Y_XS + mumax*X1)/(2*Y_XS*(D2 - mumax))\n",
    "        if S2 > S1:\n",
    "            S2 = S1\n",
    "        mu2 = mumax*S2/(Ks + S2)\n",
    "        X2 = D2*X1*(Ks + S2)/(D2*(Ks + S2) - S2*mumax)\n",
    "\n",
    "    mu1 = round(D1, 3)\n",
    "    S1 = round(S1, 3)\n",
    "    X1 = round(X1, 3)\n",
    "\n",
    "    print(f\"Specific growth rate in reactor 1: {mu1}\")\n",
    "    print(f\"Concentration of substrate in reactor 1: {S1}\")\n",
    "    print(f\"Concentration of biomass in reactor 1: {X1}\")\n",
    "\n",
    "    if V2 != 0:\n",
    "        mu2 = round(mu2, 3)\n",
    "        S2 = round(S2, 3)\n",
    "        X2 = round(X2, 3)\n",
    "    \n",
    "        print(f\"Specific growth rate in reactor 2: {mu2}\")\n",
    "        print(f\"Concentration of substrate in reactor 2: {S2}\")\n",
    "        print(f\"Concentration of biomass in reactor 2: {X2}\")\n",
    "    else:\n",
    "        mu2 = None\n",
    "        S2 = None\n",
    "        X2 = None\n",
    "\n",
    "    return mu1, S1, X1, mu2, S2, X2"
   ]
  },
  {
   "cell_type": "markdown",
   "metadata": {},
   "source": [
    "### Question a)\n",
    "**The working volume of the first reactor is 800 L and the second 200 L.**"
   ]
  },
  {
   "cell_type": "code",
   "execution_count": 86,
   "metadata": {},
   "outputs": [
    {
     "name": "stdout",
     "output_type": "stream",
     "text": [
      "Specific growth rate in reactor 1: 0.125\n",
      "Concentration of substrate in reactor 1: 0.107\n",
      "Concentration of biomass in reactor 1: 4.946\n",
      "Specific growth rate in reactor 2: 0.005\n",
      "Concentration of substrate in reactor 2: 0.004\n",
      "Concentration of biomass in reactor 2: 4.998\n"
     ]
    }
   ],
   "source": [
    "qa = predict(800, 200)"
   ]
  },
  {
   "cell_type": "markdown",
   "metadata": {},
   "source": [
    "### Question b)\n",
    "**The working volume of the first reactor is 200 L and the second 800 L.**"
   ]
  },
  {
   "cell_type": "code",
   "execution_count": 87,
   "metadata": {},
   "outputs": [
    {
     "name": "stdout",
     "output_type": "stream",
     "text": [
      "Specific growth rate in reactor 1: 0.5\n",
      "Concentration of substrate in reactor 1: 0.75\n",
      "Concentration of biomass in reactor 1: 4.625\n",
      "Specific growth rate in reactor 2: 0.009\n",
      "Concentration of substrate in reactor 2: 0.007\n",
      "Concentration of biomass in reactor 2: 4.996\n"
     ]
    }
   ],
   "source": [
    "qb = predict(200, 800)"
   ]
  },
  {
   "cell_type": "markdown",
   "metadata": {},
   "source": [
    "### Question c)\n",
    "**The working volume of the first reactor is 900 L and the second 100 L.**"
   ]
  },
  {
   "cell_type": "code",
   "execution_count": 88,
   "metadata": {},
   "outputs": [
    {
     "name": "stdout",
     "output_type": "stream",
     "text": [
      "Specific growth rate in reactor 1: 0.111\n",
      "Concentration of substrate in reactor 1: 0.094\n",
      "Concentration of biomass in reactor 1: 4.953\n",
      "Specific growth rate in reactor 2: 0.111\n",
      "Concentration of substrate in reactor 2: 0.094\n",
      "Concentration of biomass in reactor 2: 5.572\n"
     ]
    }
   ],
   "source": [
    "qc = predict(900, 100)"
   ]
  },
  {
   "cell_type": "markdown",
   "metadata": {},
   "source": [
    "### Question d)\n",
    "**The working volume of the first reactor is 100 L and the second 900 L.**"
   ]
  },
  {
   "cell_type": "code",
   "execution_count": 89,
   "metadata": {},
   "outputs": [
    {
     "name": "stdout",
     "output_type": "stream",
     "text": [
      "Specific growth rate in reactor 1: 1.0\n",
      "Concentration of substrate in reactor 1: 10\n",
      "Concentration of biomass in reactor 1: 0.0\n",
      "Specific growth rate in reactor 2: 0.111\n",
      "Concentration of substrate in reactor 2: 0.094\n",
      "Concentration of biomass in reactor 2: -0.0\n"
     ]
    }
   ],
   "source": [
    "qd = predict(100, 900)"
   ]
  },
  {
   "cell_type": "markdown",
   "metadata": {},
   "source": [
    "### Question e)\n",
    "**Compare the proposed configurations in terms of output cell and substrate concentrations.**\\\n",
    "**Compare the value predicted if a single 1000 L reactor was used.**"
   ]
  },
  {
   "cell_type": "code",
   "execution_count": 90,
   "metadata": {},
   "outputs": [
    {
     "name": "stdout",
     "output_type": "stream",
     "text": [
      "Specific growth rate in reactor 1: 0.1\n",
      "Concentration of substrate in reactor 1: 0.083\n",
      "Concentration of biomass in reactor 1: 4.958\n"
     ]
    }
   ],
   "source": [
    "qe = predict(1000, 0)"
   ]
  }
 ],
 "metadata": {
  "kernelspec": {
   "display_name": "biochemical",
   "language": "python",
   "name": "python3"
  },
  "language_info": {
   "codemirror_mode": {
    "name": "ipython",
    "version": 3
   },
   "file_extension": ".py",
   "mimetype": "text/x-python",
   "name": "python",
   "nbconvert_exporter": "python",
   "pygments_lexer": "ipython3",
   "version": "3.10.13"
  }
 },
 "nbformat": 4,
 "nbformat_minor": 2
}
